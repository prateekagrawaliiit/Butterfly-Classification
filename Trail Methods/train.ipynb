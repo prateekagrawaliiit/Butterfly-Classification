{
 "metadata": {
  "language_info": {
   "codemirror_mode": {
    "name": "ipython",
    "version": 3
   },
   "file_extension": ".py",
   "mimetype": "text/x-python",
   "name": "python",
   "nbconvert_exporter": "python",
   "pygments_lexer": "ipython3",
   "version": "3.7.9-final"
  },
  "orig_nbformat": 2,
  "kernelspec": {
   "name": "Python 3.7.9 64-bit ('tf_gpu': conda)",
   "display_name": "Python 3.7.9 64-bit ('tf_gpu': conda)",
   "metadata": {
    "interpreter": {
     "hash": "d000fba385f766cee63c6d51509587c1f8182badf8ad7f3411a3c542b768ad01"
    }
   }
  }
 },
 "nbformat": 4,
 "nbformat_minor": 2,
 "cells": [
  {
   "cell_type": "code",
   "execution_count": 1,
   "metadata": {},
   "outputs": [],
   "source": [
    "import pandas as pd \n",
    "import numpy as np \n",
    "from sklearn.model_selection import StratifiedKFold\n",
    "from sklearn.metrics import f1_score\n",
    "\n",
    "import lightgbm as lgb \n",
    "import catboost as cb \n"
   ]
  },
  {
   "cell_type": "code",
   "execution_count": 2,
   "metadata": {},
   "outputs": [],
   "source": [
    "SEED=42"
   ]
  },
  {
   "cell_type": "code",
   "execution_count": 85,
   "metadata": {},
   "outputs": [],
   "source": [
    "train=pd.read_csv('data/final.csv')\n",
    "test=pd.read_csv('data/test.csv')"
   ]
  },
  {
   "cell_type": "code",
   "execution_count": 86,
   "metadata": {},
   "outputs": [
    {
     "output_type": "execute_result",
     "data": {
      "text/plain": [
       "    ID  age  sex  cp  trestbps  chol  fbs  restecg  thalach  exang  oldpeak  \\\n",
       "0   29   65    0   2       140   417    1        0      157      0      0.8   \n",
       "1   57   48    1   0       122   222    0        0      186      0      0.0   \n",
       "2    9   52    1   2       172   199    1        1      162      0      0.5   \n",
       "3  147   44    0   2       118   242    0        1      149      0      0.3   \n",
       "4  303   57    0   1       130   236    0        0      174      0      0.0   \n",
       "\n",
       "   slope  ca  thal  target  \n",
       "0      2   1     2       1  \n",
       "1      2   0     2       1  \n",
       "2      2   0     3       1  \n",
       "3      1   1     2       1  \n",
       "4      1   1     2       0  "
      ],
      "text/html": "<div>\n<style scoped>\n    .dataframe tbody tr th:only-of-type {\n        vertical-align: middle;\n    }\n\n    .dataframe tbody tr th {\n        vertical-align: top;\n    }\n\n    .dataframe thead th {\n        text-align: right;\n    }\n</style>\n<table border=\"1\" class=\"dataframe\">\n  <thead>\n    <tr style=\"text-align: right;\">\n      <th></th>\n      <th>ID</th>\n      <th>age</th>\n      <th>sex</th>\n      <th>cp</th>\n      <th>trestbps</th>\n      <th>chol</th>\n      <th>fbs</th>\n      <th>restecg</th>\n      <th>thalach</th>\n      <th>exang</th>\n      <th>oldpeak</th>\n      <th>slope</th>\n      <th>ca</th>\n      <th>thal</th>\n      <th>target</th>\n    </tr>\n  </thead>\n  <tbody>\n    <tr>\n      <th>0</th>\n      <td>29</td>\n      <td>65</td>\n      <td>0</td>\n      <td>2</td>\n      <td>140</td>\n      <td>417</td>\n      <td>1</td>\n      <td>0</td>\n      <td>157</td>\n      <td>0</td>\n      <td>0.8</td>\n      <td>2</td>\n      <td>1</td>\n      <td>2</td>\n      <td>1</td>\n    </tr>\n    <tr>\n      <th>1</th>\n      <td>57</td>\n      <td>48</td>\n      <td>1</td>\n      <td>0</td>\n      <td>122</td>\n      <td>222</td>\n      <td>0</td>\n      <td>0</td>\n      <td>186</td>\n      <td>0</td>\n      <td>0.0</td>\n      <td>2</td>\n      <td>0</td>\n      <td>2</td>\n      <td>1</td>\n    </tr>\n    <tr>\n      <th>2</th>\n      <td>9</td>\n      <td>52</td>\n      <td>1</td>\n      <td>2</td>\n      <td>172</td>\n      <td>199</td>\n      <td>1</td>\n      <td>1</td>\n      <td>162</td>\n      <td>0</td>\n      <td>0.5</td>\n      <td>2</td>\n      <td>0</td>\n      <td>3</td>\n      <td>1</td>\n    </tr>\n    <tr>\n      <th>3</th>\n      <td>147</td>\n      <td>44</td>\n      <td>0</td>\n      <td>2</td>\n      <td>118</td>\n      <td>242</td>\n      <td>0</td>\n      <td>1</td>\n      <td>149</td>\n      <td>0</td>\n      <td>0.3</td>\n      <td>1</td>\n      <td>1</td>\n      <td>2</td>\n      <td>1</td>\n    </tr>\n    <tr>\n      <th>4</th>\n      <td>303</td>\n      <td>57</td>\n      <td>0</td>\n      <td>1</td>\n      <td>130</td>\n      <td>236</td>\n      <td>0</td>\n      <td>0</td>\n      <td>174</td>\n      <td>0</td>\n      <td>0.0</td>\n      <td>1</td>\n      <td>1</td>\n      <td>2</td>\n      <td>0</td>\n    </tr>\n  </tbody>\n</table>\n</div>"
     },
     "metadata": {},
     "execution_count": 86
    }
   ],
   "source": [
    "train.head()"
   ]
  },
  {
   "cell_type": "code",
   "execution_count": 87,
   "metadata": {},
   "outputs": [
    {
     "output_type": "execute_result",
     "data": {
      "text/plain": [
       "1    137\n",
       "0    116\n",
       "Name: target, dtype: int64"
      ]
     },
     "metadata": {},
     "execution_count": 87
    }
   ],
   "source": [
    "train.target.value_counts()"
   ]
  },
  {
   "cell_type": "code",
   "execution_count": 5,
   "metadata": {},
   "outputs": [
    {
     "output_type": "stream",
     "name": "stdout",
     "text": [
      "<class 'pandas.core.frame.DataFrame'>\nRangeIndex: 253 entries, 0 to 252\nData columns (total 15 columns):\n #   Column    Non-Null Count  Dtype  \n---  ------    --------------  -----  \n 0   ID        253 non-null    int64  \n 1   age       253 non-null    int64  \n 2   sex       253 non-null    int64  \n 3   cp        253 non-null    int64  \n 4   trestbps  253 non-null    int64  \n 5   chol      253 non-null    int64  \n 6   fbs       253 non-null    int64  \n 7   restecg   253 non-null    int64  \n 8   thalach   253 non-null    int64  \n 9   exang     253 non-null    int64  \n 10  oldpeak   253 non-null    float64\n 11  slope     253 non-null    int64  \n 12  ca        253 non-null    int64  \n 13  thal      253 non-null    int64  \n 14  target    253 non-null    int64  \ndtypes: float64(1), int64(14)\nmemory usage: 29.8 KB\n"
     ]
    }
   ],
   "source": [
    "train.info()"
   ]
  },
  {
   "cell_type": "code",
   "execution_count": 6,
   "metadata": {},
   "outputs": [
    {
     "output_type": "execute_result",
     "data": {
      "text/plain": [
       "    age  sex  cp  trestbps  chol  fbs  restecg  thalach  exang  oldpeak  \\\n",
       "0    65    0   2       140   417    1        0      157      0      0.8   \n",
       "1    48    1   0       122   222    0        0      186      0      0.0   \n",
       "2    52    1   2       172   199    1        1      162      0      0.5   \n",
       "3    44    0   2       118   242    0        1      149      0      0.3   \n",
       "4    57    0   1       130   236    0        0      174      0      0.0   \n",
       "..  ...  ...  ..       ...   ...  ...      ...      ...    ...      ...   \n",
       "45   70    1   1       156   245    0        0      143      0      0.0   \n",
       "46   61    1   2       150   243    1        1      137      1      1.0   \n",
       "47   64    1   0       128   263    0        1      105      1      0.2   \n",
       "48   54    1   0       124   266    0        0      109      1      2.2   \n",
       "49   47    1   2       108   243    0        1      152      0      0.0   \n",
       "\n",
       "    slope  ca  thal  target  \n",
       "0       2   1     2     1.0  \n",
       "1       2   0     2     1.0  \n",
       "2       2   0     3     1.0  \n",
       "3       1   1     2     1.0  \n",
       "4       1   1     2     0.0  \n",
       "..    ...  ..   ...     ...  \n",
       "45      2   0     2     NaN  \n",
       "46      1   0     2     NaN  \n",
       "47      1   1     3     NaN  \n",
       "48      1   1     3     NaN  \n",
       "49      2   0     2     NaN  \n",
       "\n",
       "[303 rows x 14 columns]"
      ],
      "text/html": "<div>\n<style scoped>\n    .dataframe tbody tr th:only-of-type {\n        vertical-align: middle;\n    }\n\n    .dataframe tbody tr th {\n        vertical-align: top;\n    }\n\n    .dataframe thead th {\n        text-align: right;\n    }\n</style>\n<table border=\"1\" class=\"dataframe\">\n  <thead>\n    <tr style=\"text-align: right;\">\n      <th></th>\n      <th>age</th>\n      <th>sex</th>\n      <th>cp</th>\n      <th>trestbps</th>\n      <th>chol</th>\n      <th>fbs</th>\n      <th>restecg</th>\n      <th>thalach</th>\n      <th>exang</th>\n      <th>oldpeak</th>\n      <th>slope</th>\n      <th>ca</th>\n      <th>thal</th>\n      <th>target</th>\n    </tr>\n  </thead>\n  <tbody>\n    <tr>\n      <th>0</th>\n      <td>65</td>\n      <td>0</td>\n      <td>2</td>\n      <td>140</td>\n      <td>417</td>\n      <td>1</td>\n      <td>0</td>\n      <td>157</td>\n      <td>0</td>\n      <td>0.8</td>\n      <td>2</td>\n      <td>1</td>\n      <td>2</td>\n      <td>1.0</td>\n    </tr>\n    <tr>\n      <th>1</th>\n      <td>48</td>\n      <td>1</td>\n      <td>0</td>\n      <td>122</td>\n      <td>222</td>\n      <td>0</td>\n      <td>0</td>\n      <td>186</td>\n      <td>0</td>\n      <td>0.0</td>\n      <td>2</td>\n      <td>0</td>\n      <td>2</td>\n      <td>1.0</td>\n    </tr>\n    <tr>\n      <th>2</th>\n      <td>52</td>\n      <td>1</td>\n      <td>2</td>\n      <td>172</td>\n      <td>199</td>\n      <td>1</td>\n      <td>1</td>\n      <td>162</td>\n      <td>0</td>\n      <td>0.5</td>\n      <td>2</td>\n      <td>0</td>\n      <td>3</td>\n      <td>1.0</td>\n    </tr>\n    <tr>\n      <th>3</th>\n      <td>44</td>\n      <td>0</td>\n      <td>2</td>\n      <td>118</td>\n      <td>242</td>\n      <td>0</td>\n      <td>1</td>\n      <td>149</td>\n      <td>0</td>\n      <td>0.3</td>\n      <td>1</td>\n      <td>1</td>\n      <td>2</td>\n      <td>1.0</td>\n    </tr>\n    <tr>\n      <th>4</th>\n      <td>57</td>\n      <td>0</td>\n      <td>1</td>\n      <td>130</td>\n      <td>236</td>\n      <td>0</td>\n      <td>0</td>\n      <td>174</td>\n      <td>0</td>\n      <td>0.0</td>\n      <td>1</td>\n      <td>1</td>\n      <td>2</td>\n      <td>0.0</td>\n    </tr>\n    <tr>\n      <th>...</th>\n      <td>...</td>\n      <td>...</td>\n      <td>...</td>\n      <td>...</td>\n      <td>...</td>\n      <td>...</td>\n      <td>...</td>\n      <td>...</td>\n      <td>...</td>\n      <td>...</td>\n      <td>...</td>\n      <td>...</td>\n      <td>...</td>\n      <td>...</td>\n    </tr>\n    <tr>\n      <th>45</th>\n      <td>70</td>\n      <td>1</td>\n      <td>1</td>\n      <td>156</td>\n      <td>245</td>\n      <td>0</td>\n      <td>0</td>\n      <td>143</td>\n      <td>0</td>\n      <td>0.0</td>\n      <td>2</td>\n      <td>0</td>\n      <td>2</td>\n      <td>NaN</td>\n    </tr>\n    <tr>\n      <th>46</th>\n      <td>61</td>\n      <td>1</td>\n      <td>2</td>\n      <td>150</td>\n      <td>243</td>\n      <td>1</td>\n      <td>1</td>\n      <td>137</td>\n      <td>1</td>\n      <td>1.0</td>\n      <td>1</td>\n      <td>0</td>\n      <td>2</td>\n      <td>NaN</td>\n    </tr>\n    <tr>\n      <th>47</th>\n      <td>64</td>\n      <td>1</td>\n      <td>0</td>\n      <td>128</td>\n      <td>263</td>\n      <td>0</td>\n      <td>1</td>\n      <td>105</td>\n      <td>1</td>\n      <td>0.2</td>\n      <td>1</td>\n      <td>1</td>\n      <td>3</td>\n      <td>NaN</td>\n    </tr>\n    <tr>\n      <th>48</th>\n      <td>54</td>\n      <td>1</td>\n      <td>0</td>\n      <td>124</td>\n      <td>266</td>\n      <td>0</td>\n      <td>0</td>\n      <td>109</td>\n      <td>1</td>\n      <td>2.2</td>\n      <td>1</td>\n      <td>1</td>\n      <td>3</td>\n      <td>NaN</td>\n    </tr>\n    <tr>\n      <th>49</th>\n      <td>47</td>\n      <td>1</td>\n      <td>2</td>\n      <td>108</td>\n      <td>243</td>\n      <td>0</td>\n      <td>1</td>\n      <td>152</td>\n      <td>0</td>\n      <td>0.0</td>\n      <td>2</td>\n      <td>0</td>\n      <td>2</td>\n      <td>NaN</td>\n    </tr>\n  </tbody>\n</table>\n<p>303 rows × 14 columns</p>\n</div>"
     },
     "metadata": {},
     "execution_count": 6
    }
   ],
   "source": [
    "data=train.append(test)\n",
    "data.drop(['ID'],axis=1)"
   ]
  },
  {
   "cell_type": "code",
   "execution_count": 7,
   "metadata": {},
   "outputs": [
    {
     "output_type": "stream",
     "name": "stdout",
     "text": [
      "(253, 15) (50, 15)\n"
     ]
    }
   ],
   "source": [
    "train=data[0:train.shape[0]]\n",
    "test=data[train.shape[0]:]\n",
    "print(train.shape,test.shape)"
   ]
  },
  {
   "cell_type": "code",
   "execution_count": 8,
   "metadata": {},
   "outputs": [],
   "source": [
    "y=train.target\n",
    "x=train.drop(['target'],axis=1)"
   ]
  },
  {
   "cell_type": "code",
   "execution_count": 9,
   "metadata": {},
   "outputs": [],
   "source": [
    "test=test.drop(['target'],axis=1)"
   ]
  },
  {
   "cell_type": "code",
   "execution_count": 10,
   "metadata": {},
   "outputs": [],
   "source": [
    "skf=StratifiedKFold(n_splits=3,random_state=SEED)"
   ]
  },
  {
   "cell_type": "code",
   "execution_count": 11,
   "metadata": {},
   "outputs": [
    {
     "output_type": "stream",
     "name": "stdout",
     "text": [
      "0\n[LightGBM] [Warning] Unknown parameter: loss\nTraining until validation scores don't improve for 150 rounds\n[50]\tvalid_0's binary_logloss: 0.00592809\n[100]\tvalid_0's binary_logloss: 0.000158071\n[150]\tvalid_0's binary_logloss: 3.81477e-05\n[200]\tvalid_0's binary_logloss: 3.81477e-05\n[250]\tvalid_0's binary_logloss: 3.81477e-05\nEarly stopping, best iteration is:\n[140]\tvalid_0's binary_logloss: 3.79695e-05\n[1. 1.]\n1\n[LightGBM] [Warning] Unknown parameter: loss\nTraining until validation scores don't improve for 150 rounds\n[50]\tvalid_0's binary_logloss: 0.00481278\n[100]\tvalid_0's binary_logloss: 6.44545e-05\n[150]\tvalid_0's binary_logloss: 1.91833e-05\n[200]\tvalid_0's binary_logloss: 1.89234e-05\n[250]\tvalid_0's binary_logloss: 1.89231e-05\n[300]\tvalid_0's binary_logloss: 1.89231e-05\nEarly stopping, best iteration is:\n[178]\tvalid_0's binary_logloss: 1.89144e-05\n[1. 1.]\n2\n[LightGBM] [Warning] Unknown parameter: loss\nTraining until validation scores don't improve for 150 rounds\n[50]\tvalid_0's binary_logloss: 0.0168235\n[100]\tvalid_0's binary_logloss: 0.034917\n[150]\tvalid_0's binary_logloss: 0.0223552\n[200]\tvalid_0's binary_logloss: 0.019505\nEarly stopping, best iteration is:\n[74]\tvalid_0's binary_logloss: 0.0156877\n[0.98701299 0.98901099]\n0.996003996003996 0.005680560142934415\n"
     ]
    }
   ],
   "source": [
    "scores=[]\n",
    "fold=0\n",
    "for train_idx,test_idx in skf.split(x,y):\n",
    "    x_train,x_test=x.iloc[train_idx],x.iloc[test_idx]\n",
    "    y_train,y_test=y.iloc[train_idx],y.iloc[test_idx]\n",
    "    print(fold)\n",
    "    fold+=1\n",
    "\n",
    "    lg=lgb.LGBMClassifier(random_state=SEED,n_estimators=2000,loss='rmse')\n",
    "    lg.fit(x_train,y_train,eval_set=[(x_test,y_test)],early_stopping_rounds=150,verbose=50)\n",
    "    preds=lg.predict(x_test)\n",
    "    score=f1_score(y_test,preds,average=None)\n",
    "    print(score)\n",
    "    scores.append(score)\n",
    "print(np.mean(scores),np.std(scores))"
   ]
  },
  {
   "cell_type": "code",
   "execution_count": 12,
   "metadata": {},
   "outputs": [
    {
     "output_type": "stream",
     "name": "stdout",
     "text": [
      "0\n",
      "Learning rate set to 0.010128\n",
      "0:\tlearn: 0.6757553\ttest: 0.6782042\tbest: 0.6782042 (0)\ttotal: 149ms\tremaining: 12m 24s\n",
      "100:\tlearn: 0.0849740\ttest: 0.0959386\tbest: 0.0959386 (100)\ttotal: 239ms\tremaining: 11.6s\n",
      "200:\tlearn: 0.0293063\ttest: 0.0396400\tbest: 0.0396400 (200)\ttotal: 335ms\tremaining: 7.99s\n",
      "300:\tlearn: 0.0149161\ttest: 0.0242644\tbest: 0.0242644 (300)\ttotal: 431ms\tremaining: 6.72s\n",
      "400:\tlearn: 0.0095137\ttest: 0.0186466\tbest: 0.0186466 (400)\ttotal: 522ms\tremaining: 5.99s\n",
      "500:\tlearn: 0.0067506\ttest: 0.0161966\tbest: 0.0161966 (500)\ttotal: 627ms\tremaining: 5.63s\n",
      "600:\tlearn: 0.0051002\ttest: 0.0147556\tbest: 0.0147556 (600)\ttotal: 725ms\tremaining: 5.3s\n",
      "700:\tlearn: 0.0042198\ttest: 0.0140809\tbest: 0.0140809 (700)\ttotal: 823ms\tremaining: 5.05s\n",
      "800:\tlearn: 0.0036011\ttest: 0.0135761\tbest: 0.0135761 (800)\ttotal: 923ms\tremaining: 4.84s\n",
      "900:\tlearn: 0.0030704\ttest: 0.0131113\tbest: 0.0131113 (900)\ttotal: 1.02s\tremaining: 4.64s\n",
      "1000:\tlearn: 0.0026464\ttest: 0.0126414\tbest: 0.0126414 (1000)\ttotal: 1.13s\tremaining: 4.52s\n",
      "1100:\tlearn: 0.0023333\ttest: 0.0123030\tbest: 0.0123030 (1100)\ttotal: 1.23s\tremaining: 4.36s\n",
      "1200:\tlearn: 0.0021000\ttest: 0.0121256\tbest: 0.0121256 (1200)\ttotal: 1.32s\tremaining: 4.19s\n",
      "1300:\tlearn: 0.0019275\ttest: 0.0119949\tbest: 0.0119942 (1299)\ttotal: 1.42s\tremaining: 4.04s\n",
      "1400:\tlearn: 0.0017931\ttest: 0.0118862\tbest: 0.0118862 (1400)\ttotal: 1.52s\tremaining: 3.9s\n",
      "1500:\tlearn: 0.0016824\ttest: 0.0118083\tbest: 0.0118083 (1499)\ttotal: 1.62s\tremaining: 3.78s\n",
      "1600:\tlearn: 0.0016051\ttest: 0.0117729\tbest: 0.0117665 (1576)\ttotal: 1.71s\tremaining: 3.64s\n",
      "1700:\tlearn: 0.0015638\ttest: 0.0117654\tbest: 0.0117654 (1700)\ttotal: 1.81s\tremaining: 3.51s\n",
      "1800:\tlearn: 0.0015197\ttest: 0.0117720\tbest: 0.0117610 (1708)\ttotal: 1.9s\tremaining: 3.38s\n",
      "Stopped by overfitting detector  (150 iterations wait)\n",
      "\n",
      "bestTest = 0.01176104958\n",
      "bestIteration = 1708\n",
      "\n",
      "Shrink model to first 1709 iterations.\n",
      "[0.98701299 0.98924731]\n",
      "1\n",
      "Learning rate set to 0.010143\n",
      "0:\tlearn: 0.6773005\ttest: 0.6774341\tbest: 0.6774341 (0)\ttotal: 1.83ms\tremaining: 9.14s\n",
      "100:\tlearn: 0.0886144\ttest: 0.0954999\tbest: 0.0954999 (100)\ttotal: 94.6ms\tremaining: 4.59s\n",
      "200:\tlearn: 0.0292686\ttest: 0.0333624\tbest: 0.0333624 (200)\ttotal: 187ms\tremaining: 4.47s\n",
      "300:\tlearn: 0.0147508\ttest: 0.0173346\tbest: 0.0173346 (300)\ttotal: 277ms\tremaining: 4.33s\n",
      "400:\tlearn: 0.0093589\ttest: 0.0112898\tbest: 0.0112898 (400)\ttotal: 385ms\tremaining: 4.42s\n",
      "500:\tlearn: 0.0067055\ttest: 0.0082060\tbest: 0.0082060 (500)\ttotal: 500ms\tremaining: 4.49s\n",
      "600:\tlearn: 0.0051721\ttest: 0.0064295\tbest: 0.0064295 (600)\ttotal: 610ms\tremaining: 4.47s\n",
      "700:\tlearn: 0.0041610\ttest: 0.0052321\tbest: 0.0052321 (700)\ttotal: 718ms\tremaining: 4.4s\n",
      "800:\tlearn: 0.0034969\ttest: 0.0044585\tbest: 0.0044585 (800)\ttotal: 826ms\tremaining: 4.33s\n",
      "900:\tlearn: 0.0030015\ttest: 0.0038778\tbest: 0.0038778 (900)\ttotal: 930ms\tremaining: 4.23s\n",
      "1000:\tlearn: 0.0026235\ttest: 0.0034423\tbest: 0.0034423 (1000)\ttotal: 1.03s\tremaining: 4.12s\n",
      "1100:\tlearn: 0.0023368\ttest: 0.0031198\tbest: 0.0031198 (1100)\ttotal: 1.14s\tremaining: 4.02s\n",
      "1200:\tlearn: 0.0021037\ttest: 0.0028613\tbest: 0.0028613 (1200)\ttotal: 1.23s\tremaining: 3.9s\n",
      "1300:\tlearn: 0.0019119\ttest: 0.0026511\tbest: 0.0026511 (1300)\ttotal: 1.33s\tremaining: 3.78s\n",
      "1400:\tlearn: 0.0017371\ttest: 0.0024541\tbest: 0.0024541 (1400)\ttotal: 1.42s\tremaining: 3.65s\n",
      "1500:\tlearn: 0.0015839\ttest: 0.0022834\tbest: 0.0022834 (1500)\ttotal: 1.52s\tremaining: 3.55s\n",
      "1600:\tlearn: 0.0014569\ttest: 0.0021441\tbest: 0.0021441 (1600)\ttotal: 1.62s\tremaining: 3.45s\n",
      "1700:\tlearn: 0.0013723\ttest: 0.0020526\tbest: 0.0020526 (1700)\ttotal: 1.72s\tremaining: 3.33s\n",
      "1800:\tlearn: 0.0013082\ttest: 0.0019841\tbest: 0.0019841 (1800)\ttotal: 1.81s\tremaining: 3.22s\n",
      "1900:\tlearn: 0.0012691\ttest: 0.0019427\tbest: 0.0019427 (1900)\ttotal: 1.91s\tremaining: 3.11s\n",
      "2000:\tlearn: 0.0012582\ttest: 0.0019311\tbest: 0.0019311 (1923)\ttotal: 2s\tremaining: 3s\n",
      "Stopped by overfitting detector  (150 iterations wait)\n",
      "\n",
      "bestTest = 0.001931142843\n",
      "bestIteration = 1923\n",
      "\n",
      "Shrink model to first 1924 iterations.\n",
      "[1. 1.]\n",
      "2\n",
      "Learning rate set to 0.010143\n",
      "0:\tlearn: 0.6776348\ttest: 0.6791737\tbest: 0.6791737 (0)\ttotal: 1.21ms\tremaining: 6.07s\n",
      "100:\tlearn: 0.0890128\ttest: 0.1123090\tbest: 0.1123090 (100)\ttotal: 93.7ms\tremaining: 4.55s\n",
      "200:\tlearn: 0.0282810\ttest: 0.0464591\tbest: 0.0464591 (200)\ttotal: 188ms\tremaining: 4.48s\n",
      "300:\tlearn: 0.0148243\ttest: 0.0310195\tbest: 0.0310195 (300)\ttotal: 283ms\tremaining: 4.42s\n",
      "400:\tlearn: 0.0094629\ttest: 0.0251644\tbest: 0.0251644 (400)\ttotal: 378ms\tremaining: 4.33s\n",
      "500:\tlearn: 0.0066333\ttest: 0.0219909\tbest: 0.0219909 (500)\ttotal: 472ms\tremaining: 4.24s\n",
      "600:\tlearn: 0.0051312\ttest: 0.0208159\tbest: 0.0208159 (600)\ttotal: 566ms\tremaining: 4.14s\n",
      "700:\tlearn: 0.0039503\ttest: 0.0200331\tbest: 0.0200331 (700)\ttotal: 666ms\tremaining: 4.08s\n",
      "800:\tlearn: 0.0030490\ttest: 0.0192762\tbest: 0.0192762 (800)\ttotal: 763ms\tremaining: 4s\n",
      "900:\tlearn: 0.0025024\ttest: 0.0186521\tbest: 0.0186521 (900)\ttotal: 861ms\tremaining: 3.91s\n",
      "1000:\tlearn: 0.0021462\ttest: 0.0181430\tbest: 0.0181430 (1000)\ttotal: 957ms\tremaining: 3.82s\n",
      "1100:\tlearn: 0.0018909\ttest: 0.0177675\tbest: 0.0177675 (1100)\ttotal: 1.05s\tremaining: 3.73s\n",
      "1200:\tlearn: 0.0016971\ttest: 0.0174772\tbest: 0.0174772 (1200)\ttotal: 1.15s\tremaining: 3.63s\n",
      "1300:\tlearn: 0.0015443\ttest: 0.0172458\tbest: 0.0172458 (1300)\ttotal: 1.24s\tremaining: 3.53s\n",
      "1400:\tlearn: 0.0014352\ttest: 0.0170929\tbest: 0.0170929 (1400)\ttotal: 1.33s\tremaining: 3.42s\n",
      "1500:\tlearn: 0.0013704\ttest: 0.0170144\tbest: 0.0170144 (1500)\ttotal: 1.43s\tremaining: 3.34s\n",
      "1600:\tlearn: 0.0013408\ttest: 0.0169764\tbest: 0.0169764 (1600)\ttotal: 1.53s\tremaining: 3.25s\n",
      "1700:\tlearn: 0.0013195\ttest: 0.0169496\tbest: 0.0169496 (1700)\ttotal: 1.62s\tremaining: 3.14s\n",
      "1800:\tlearn: 0.0013040\ttest: 0.0169287\tbest: 0.0169287 (1800)\ttotal: 1.71s\tremaining: 3.03s\n",
      "1900:\tlearn: 0.0012856\ttest: 0.0169090\tbest: 0.0169090 (1900)\ttotal: 1.8s\tremaining: 2.93s\n",
      "2000:\tlearn: 0.0012694\ttest: 0.0168889\tbest: 0.0168889 (2000)\ttotal: 1.89s\tremaining: 2.84s\n",
      "2100:\tlearn: 0.0012446\ttest: 0.0168571\tbest: 0.0168571 (2100)\ttotal: 1.99s\tremaining: 2.74s\n",
      "2200:\tlearn: 0.0012283\ttest: 0.0168367\tbest: 0.0168367 (2200)\ttotal: 2.08s\tremaining: 2.64s\n",
      "2300:\tlearn: 0.0012122\ttest: 0.0168208\tbest: 0.0168208 (2300)\ttotal: 2.17s\tremaining: 2.55s\n",
      "2400:\tlearn: 0.0012016\ttest: 0.0168134\tbest: 0.0168134 (2400)\ttotal: 2.26s\tremaining: 2.45s\n",
      "2500:\tlearn: 0.0011896\ttest: 0.0167981\tbest: 0.0167981 (2472)\ttotal: 2.35s\tremaining: 2.35s\n",
      "2600:\tlearn: 0.0011727\ttest: 0.0167779\tbest: 0.0167779 (2600)\ttotal: 2.44s\tremaining: 2.25s\n",
      "2700:\tlearn: 0.0011684\ttest: 0.0167778\tbest: 0.0167765 (2689)\ttotal: 2.54s\tremaining: 2.16s\n",
      "2800:\tlearn: 0.0011643\ttest: 0.0167747\tbest: 0.0167747 (2800)\ttotal: 2.63s\tremaining: 2.06s\n",
      "2900:\tlearn: 0.0011585\ttest: 0.0167668\tbest: 0.0167668 (2900)\ttotal: 2.73s\tremaining: 1.97s\n",
      "3000:\tlearn: 0.0011506\ttest: 0.0167597\tbest: 0.0167577 (2956)\ttotal: 2.83s\tremaining: 1.88s\n",
      "3100:\tlearn: 0.0011442\ttest: 0.0167540\tbest: 0.0167540 (3100)\ttotal: 2.92s\tremaining: 1.79s\n",
      "3200:\tlearn: 0.0011417\ttest: 0.0167558\tbest: 0.0167540 (3110)\ttotal: 3.02s\tremaining: 1.7s\n",
      "Stopped by overfitting detector  (150 iterations wait)\n",
      "\n",
      "bestTest = 0.01675397995\n",
      "bestIteration = 3110\n",
      "\n",
      "Shrink model to first 3111 iterations.\n",
      "[0.98734177 0.98876404]\n",
      "0.9920610193227771 0.005665623566285123\n"
     ]
    }
   ],
   "source": [
    "scores=[]\n",
    "fold=0\n",
    "for train_idx,test_idx in skf.split(x,y):\n",
    "    x_train,x_test=x.iloc[train_idx],x.iloc[test_idx]\n",
    "    y_train,y_test=y.iloc[train_idx],y.iloc[test_idx]\n",
    "    print(fold)\n",
    "    fold+=1\n",
    "\n",
    "    cat=cb.CatBoostClassifier(random_state=SEED,n_estimators=5000)\n",
    "    cat.fit(x_train,y_train,eval_set=[(x_test,y_test)],early_stopping_rounds=150,verbose=100,use_best_model=True)\n",
    "    preds=cat.predict(x_test)\n",
    "    score=f1_score(y_test,preds,average=None)\n",
    "    print(score)\n",
    "    scores.append(score)\n",
    "print(np.mean(scores),np.std(scores))"
   ]
  },
  {
   "cell_type": "code",
   "execution_count": 13,
   "metadata": {},
   "outputs": [
    {
     "output_type": "stream",
     "name": "stdout",
     "text": [
      "0\n[0.95       0.95555556]\n1\n[1. 1.]\n2\n[0.96       0.96774194]\n0.9722162485065712 0.020348096905322462\n"
     ]
    }
   ],
   "source": [
    "from sklearn.linear_model import LogisticRegression\n",
    "scores=[]\n",
    "fold=0\n",
    "for train_idx,test_idx in skf.split(x,y):\n",
    "    x_train,x_test=x.iloc[train_idx],x.iloc[test_idx]\n",
    "    y_train,y_test=y.iloc[train_idx],y.iloc[test_idx]\n",
    "    print(fold)\n",
    "    fold+=1\n",
    "\n",
    "    lr=LogisticRegression()\n",
    "    lr.fit(x_train,y_train)\n",
    "    preds=lr.predict(x_test)\n",
    "    score=f1_score(y_test,preds,average=None)\n",
    "    print(score)\n",
    "    scores.append(score)\n",
    "print(np.mean(scores),np.std(scores))"
   ]
  },
  {
   "cell_type": "code",
   "execution_count": 14,
   "metadata": {},
   "outputs": [
    {
     "output_type": "execute_result",
     "data": {
      "text/plain": [
       "array([145,  74,   0,  69,  39,  45,   0,  26,  83,   5,  25,   0,   2,\n",
       "         0])"
      ]
     },
     "metadata": {},
     "execution_count": 14
    }
   ],
   "source": [
    "lg.feature_importances_"
   ]
  },
  {
   "cell_type": "code",
   "execution_count": 76,
   "metadata": {},
   "outputs": [],
   "source": [
    "test_preds=cat.predict(test)"
   ]
  },
  {
   "cell_type": "code",
   "execution_count": 77,
   "metadata": {},
   "outputs": [
    {
     "output_type": "execute_result",
     "data": {
      "text/plain": [
       "array([1., 0., 0., 0., 1., 1., 1., 1., 1., 1., 1., 0., 1., 1., 1., 0., 1.,\n",
       "       0., 1., 0., 0., 1., 0., 0., 1., 1., 0., 0., 0., 0., 1., 1., 0., 0.,\n",
       "       1., 1., 0., 0., 0., 1., 0., 1., 1., 1., 1., 1., 1., 1., 0., 0.])"
      ]
     },
     "metadata": {},
     "execution_count": 77
    }
   ],
   "source": [
    "test_preds"
   ]
  },
  {
   "cell_type": "code",
   "execution_count": 78,
   "metadata": {},
   "outputs": [],
   "source": [
    "sub=pd.read_csv('data/test.csv')"
   ]
  },
  {
   "cell_type": "code",
   "execution_count": 79,
   "metadata": {},
   "outputs": [
    {
     "output_type": "execute_result",
     "data": {
      "text/plain": [
       "    ID  age  sex  cp  trestbps  chol  fbs  restecg  thalach  exang  oldpeak  \\\n",
       "0  128   67    0   2       152   277    0        1      172      0      0.0   \n",
       "1  232   57    1   0       165   289    1        0      124      0      1.0   \n",
       "2  220   48    1   0       130   256    1        0      150      1      0.0   \n",
       "3  184   58    1   2       112   230    0        0      165      0      2.5   \n",
       "4   25   40    1   3       140   199    0        1      178      1      1.4   \n",
       "\n",
       "   slope  ca  thal  \n",
       "0      2   1     2  \n",
       "1      1   3     3  \n",
       "2      2   2     3  \n",
       "3      1   1     3  \n",
       "4      2   0     3  "
      ],
      "text/html": "<div>\n<style scoped>\n    .dataframe tbody tr th:only-of-type {\n        vertical-align: middle;\n    }\n\n    .dataframe tbody tr th {\n        vertical-align: top;\n    }\n\n    .dataframe thead th {\n        text-align: right;\n    }\n</style>\n<table border=\"1\" class=\"dataframe\">\n  <thead>\n    <tr style=\"text-align: right;\">\n      <th></th>\n      <th>ID</th>\n      <th>age</th>\n      <th>sex</th>\n      <th>cp</th>\n      <th>trestbps</th>\n      <th>chol</th>\n      <th>fbs</th>\n      <th>restecg</th>\n      <th>thalach</th>\n      <th>exang</th>\n      <th>oldpeak</th>\n      <th>slope</th>\n      <th>ca</th>\n      <th>thal</th>\n    </tr>\n  </thead>\n  <tbody>\n    <tr>\n      <th>0</th>\n      <td>128</td>\n      <td>67</td>\n      <td>0</td>\n      <td>2</td>\n      <td>152</td>\n      <td>277</td>\n      <td>0</td>\n      <td>1</td>\n      <td>172</td>\n      <td>0</td>\n      <td>0.0</td>\n      <td>2</td>\n      <td>1</td>\n      <td>2</td>\n    </tr>\n    <tr>\n      <th>1</th>\n      <td>232</td>\n      <td>57</td>\n      <td>1</td>\n      <td>0</td>\n      <td>165</td>\n      <td>289</td>\n      <td>1</td>\n      <td>0</td>\n      <td>124</td>\n      <td>0</td>\n      <td>1.0</td>\n      <td>1</td>\n      <td>3</td>\n      <td>3</td>\n    </tr>\n    <tr>\n      <th>2</th>\n      <td>220</td>\n      <td>48</td>\n      <td>1</td>\n      <td>0</td>\n      <td>130</td>\n      <td>256</td>\n      <td>1</td>\n      <td>0</td>\n      <td>150</td>\n      <td>1</td>\n      <td>0.0</td>\n      <td>2</td>\n      <td>2</td>\n      <td>3</td>\n    </tr>\n    <tr>\n      <th>3</th>\n      <td>184</td>\n      <td>58</td>\n      <td>1</td>\n      <td>2</td>\n      <td>112</td>\n      <td>230</td>\n      <td>0</td>\n      <td>0</td>\n      <td>165</td>\n      <td>0</td>\n      <td>2.5</td>\n      <td>1</td>\n      <td>1</td>\n      <td>3</td>\n    </tr>\n    <tr>\n      <th>4</th>\n      <td>25</td>\n      <td>40</td>\n      <td>1</td>\n      <td>3</td>\n      <td>140</td>\n      <td>199</td>\n      <td>0</td>\n      <td>1</td>\n      <td>178</td>\n      <td>1</td>\n      <td>1.4</td>\n      <td>2</td>\n      <td>0</td>\n      <td>3</td>\n    </tr>\n  </tbody>\n</table>\n</div>"
     },
     "metadata": {},
     "execution_count": 79
    }
   ],
   "source": [
    "sub.head()"
   ]
  },
  {
   "cell_type": "code",
   "execution_count": 80,
   "metadata": {},
   "outputs": [],
   "source": [
    "new_df=pd.DataFrame({'ID':sub.ID,'target':test_preds})"
   ]
  },
  {
   "cell_type": "code",
   "execution_count": 81,
   "metadata": {},
   "outputs": [
    {
     "output_type": "execute_result",
     "data": {
      "text/plain": [
       "    ID  target\n",
       "0  128     1.0\n",
       "1  232     0.0\n",
       "2  220     0.0\n",
       "3  184     0.0\n",
       "4   25     1.0"
      ],
      "text/html": "<div>\n<style scoped>\n    .dataframe tbody tr th:only-of-type {\n        vertical-align: middle;\n    }\n\n    .dataframe tbody tr th {\n        vertical-align: top;\n    }\n\n    .dataframe thead th {\n        text-align: right;\n    }\n</style>\n<table border=\"1\" class=\"dataframe\">\n  <thead>\n    <tr style=\"text-align: right;\">\n      <th></th>\n      <th>ID</th>\n      <th>target</th>\n    </tr>\n  </thead>\n  <tbody>\n    <tr>\n      <th>0</th>\n      <td>128</td>\n      <td>1.0</td>\n    </tr>\n    <tr>\n      <th>1</th>\n      <td>232</td>\n      <td>0.0</td>\n    </tr>\n    <tr>\n      <th>2</th>\n      <td>220</td>\n      <td>0.0</td>\n    </tr>\n    <tr>\n      <th>3</th>\n      <td>184</td>\n      <td>0.0</td>\n    </tr>\n    <tr>\n      <th>4</th>\n      <td>25</td>\n      <td>1.0</td>\n    </tr>\n  </tbody>\n</table>\n</div>"
     },
     "metadata": {},
     "execution_count": 81
    }
   ],
   "source": [
    "new_df.head()"
   ]
  },
  {
   "cell_type": "code",
   "execution_count": 82,
   "metadata": {},
   "outputs": [
    {
     "output_type": "execute_result",
     "data": {
      "text/plain": [
       "1.0    28\n",
       "0.0    22\n",
       "Name: target, dtype: int64"
      ]
     },
     "metadata": {},
     "execution_count": 82
    }
   ],
   "source": [
    "new_df.target.value_counts()"
   ]
  },
  {
   "cell_type": "code",
   "execution_count": 83,
   "metadata": {},
   "outputs": [],
   "source": [
    "new_df.to_csv('submissions/initial-cat-0.9920.csv',index=False)"
   ]
  },
  {
   "cell_type": "code",
   "execution_count": 84,
   "metadata": {},
   "outputs": [
    {
     "output_type": "execute_result",
     "data": {
      "text/plain": [
       "     ID  target\n",
       "0   128     1.0\n",
       "1   232     0.0\n",
       "2   220     0.0\n",
       "3   184     0.0\n",
       "4    25     1.0\n",
       "5    56     1.0\n",
       "6    28     1.0\n",
       "7   125     1.0\n",
       "8   139     1.0\n",
       "9    67     1.0\n",
       "10   37     1.0\n",
       "11  214     0.0\n",
       "12   12     1.0\n",
       "13  127     1.0\n",
       "14   53     1.0\n",
       "15  225     0.0\n",
       "16   17     1.0\n",
       "17  183     0.0\n",
       "18   87     1.0\n",
       "19  198     0.0\n",
       "20  292     0.0\n",
       "21   75     1.0\n",
       "22  273     0.0\n",
       "23  186     0.0\n",
       "24   82     1.0\n",
       "25  151     1.0\n",
       "26  261     0.0\n",
       "27  237     0.0\n",
       "28  244     0.0\n",
       "29  193     0.0\n",
       "30  161     1.0\n",
       "31   61     1.0\n",
       "32  266     0.0\n",
       "33  253     0.0\n",
       "34   36     1.0\n",
       "35  163     1.0\n",
       "36  194     0.0\n",
       "37  269     0.0\n",
       "38  221     0.0\n",
       "39   19     1.0\n",
       "40  168     0.0\n",
       "41   98     1.0\n",
       "42   15     1.0\n",
       "43  103     1.0\n",
       "44  153     1.0\n",
       "45  146     1.0\n",
       "46   24     1.0\n",
       "47  140     1.0\n",
       "48  188     0.0\n",
       "49  231     0.0"
      ],
      "text/html": "<div>\n<style scoped>\n    .dataframe tbody tr th:only-of-type {\n        vertical-align: middle;\n    }\n\n    .dataframe tbody tr th {\n        vertical-align: top;\n    }\n\n    .dataframe thead th {\n        text-align: right;\n    }\n</style>\n<table border=\"1\" class=\"dataframe\">\n  <thead>\n    <tr style=\"text-align: right;\">\n      <th></th>\n      <th>ID</th>\n      <th>target</th>\n    </tr>\n  </thead>\n  <tbody>\n    <tr>\n      <th>0</th>\n      <td>128</td>\n      <td>1.0</td>\n    </tr>\n    <tr>\n      <th>1</th>\n      <td>232</td>\n      <td>0.0</td>\n    </tr>\n    <tr>\n      <th>2</th>\n      <td>220</td>\n      <td>0.0</td>\n    </tr>\n    <tr>\n      <th>3</th>\n      <td>184</td>\n      <td>0.0</td>\n    </tr>\n    <tr>\n      <th>4</th>\n      <td>25</td>\n      <td>1.0</td>\n    </tr>\n    <tr>\n      <th>5</th>\n      <td>56</td>\n      <td>1.0</td>\n    </tr>\n    <tr>\n      <th>6</th>\n      <td>28</td>\n      <td>1.0</td>\n    </tr>\n    <tr>\n      <th>7</th>\n      <td>125</td>\n      <td>1.0</td>\n    </tr>\n    <tr>\n      <th>8</th>\n      <td>139</td>\n      <td>1.0</td>\n    </tr>\n    <tr>\n      <th>9</th>\n      <td>67</td>\n      <td>1.0</td>\n    </tr>\n    <tr>\n      <th>10</th>\n      <td>37</td>\n      <td>1.0</td>\n    </tr>\n    <tr>\n      <th>11</th>\n      <td>214</td>\n      <td>0.0</td>\n    </tr>\n    <tr>\n      <th>12</th>\n      <td>12</td>\n      <td>1.0</td>\n    </tr>\n    <tr>\n      <th>13</th>\n      <td>127</td>\n      <td>1.0</td>\n    </tr>\n    <tr>\n      <th>14</th>\n      <td>53</td>\n      <td>1.0</td>\n    </tr>\n    <tr>\n      <th>15</th>\n      <td>225</td>\n      <td>0.0</td>\n    </tr>\n    <tr>\n      <th>16</th>\n      <td>17</td>\n      <td>1.0</td>\n    </tr>\n    <tr>\n      <th>17</th>\n      <td>183</td>\n      <td>0.0</td>\n    </tr>\n    <tr>\n      <th>18</th>\n      <td>87</td>\n      <td>1.0</td>\n    </tr>\n    <tr>\n      <th>19</th>\n      <td>198</td>\n      <td>0.0</td>\n    </tr>\n    <tr>\n      <th>20</th>\n      <td>292</td>\n      <td>0.0</td>\n    </tr>\n    <tr>\n      <th>21</th>\n      <td>75</td>\n      <td>1.0</td>\n    </tr>\n    <tr>\n      <th>22</th>\n      <td>273</td>\n      <td>0.0</td>\n    </tr>\n    <tr>\n      <th>23</th>\n      <td>186</td>\n      <td>0.0</td>\n    </tr>\n    <tr>\n      <th>24</th>\n      <td>82</td>\n      <td>1.0</td>\n    </tr>\n    <tr>\n      <th>25</th>\n      <td>151</td>\n      <td>1.0</td>\n    </tr>\n    <tr>\n      <th>26</th>\n      <td>261</td>\n      <td>0.0</td>\n    </tr>\n    <tr>\n      <th>27</th>\n      <td>237</td>\n      <td>0.0</td>\n    </tr>\n    <tr>\n      <th>28</th>\n      <td>244</td>\n      <td>0.0</td>\n    </tr>\n    <tr>\n      <th>29</th>\n      <td>193</td>\n      <td>0.0</td>\n    </tr>\n    <tr>\n      <th>30</th>\n      <td>161</td>\n      <td>1.0</td>\n    </tr>\n    <tr>\n      <th>31</th>\n      <td>61</td>\n      <td>1.0</td>\n    </tr>\n    <tr>\n      <th>32</th>\n      <td>266</td>\n      <td>0.0</td>\n    </tr>\n    <tr>\n      <th>33</th>\n      <td>253</td>\n      <td>0.0</td>\n    </tr>\n    <tr>\n      <th>34</th>\n      <td>36</td>\n      <td>1.0</td>\n    </tr>\n    <tr>\n      <th>35</th>\n      <td>163</td>\n      <td>1.0</td>\n    </tr>\n    <tr>\n      <th>36</th>\n      <td>194</td>\n      <td>0.0</td>\n    </tr>\n    <tr>\n      <th>37</th>\n      <td>269</td>\n      <td>0.0</td>\n    </tr>\n    <tr>\n      <th>38</th>\n      <td>221</td>\n      <td>0.0</td>\n    </tr>\n    <tr>\n      <th>39</th>\n      <td>19</td>\n      <td>1.0</td>\n    </tr>\n    <tr>\n      <th>40</th>\n      <td>168</td>\n      <td>0.0</td>\n    </tr>\n    <tr>\n      <th>41</th>\n      <td>98</td>\n      <td>1.0</td>\n    </tr>\n    <tr>\n      <th>42</th>\n      <td>15</td>\n      <td>1.0</td>\n    </tr>\n    <tr>\n      <th>43</th>\n      <td>103</td>\n      <td>1.0</td>\n    </tr>\n    <tr>\n      <th>44</th>\n      <td>153</td>\n      <td>1.0</td>\n    </tr>\n    <tr>\n      <th>45</th>\n      <td>146</td>\n      <td>1.0</td>\n    </tr>\n    <tr>\n      <th>46</th>\n      <td>24</td>\n      <td>1.0</td>\n    </tr>\n    <tr>\n      <th>47</th>\n      <td>140</td>\n      <td>1.0</td>\n    </tr>\n    <tr>\n      <th>48</th>\n      <td>188</td>\n      <td>0.0</td>\n    </tr>\n    <tr>\n      <th>49</th>\n      <td>231</td>\n      <td>0.0</td>\n    </tr>\n  </tbody>\n</table>\n</div>"
     },
     "metadata": {},
     "execution_count": 84
    }
   ],
   "source": [
    "new_df"
   ]
  },
  {
   "cell_type": "code",
   "execution_count": null,
   "metadata": {},
   "outputs": [],
   "source": []
  }
 ]
}